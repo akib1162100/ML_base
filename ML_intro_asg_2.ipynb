{
  "nbformat": 4,
  "nbformat_minor": 0,
  "metadata": {
    "colab": {
      "provenance": [],
      "authorship_tag": "ABX9TyMht2bBM8V2EiQB5PmKLQbY",
      "include_colab_link": true
    },
    "kernelspec": {
      "name": "python3",
      "display_name": "Python 3"
    },
    "language_info": {
      "name": "python"
    }
  },
  "cells": [
    {
      "cell_type": "markdown",
      "metadata": {
        "id": "view-in-github",
        "colab_type": "text"
      },
      "source": [
        "<a href=\"https://colab.research.google.com/github/akib1162100/ML_base/blob/main/ML_intro_asg_2.ipynb\" target=\"_parent\"><img src=\"https://colab.research.google.com/assets/colab-badge.svg\" alt=\"Open In Colab\"/></a>"
      ]
    },
    {
      "cell_type": "code",
      "execution_count": null,
      "metadata": {
        "id": "pWseKpGe0j9o"
      },
      "outputs": [],
      "source": [
        "!pip3 install numpy\n",
        "!pip3 install pandas\n",
        "!pip3 install keras\n",
        "!pip3 install tensorflow"
      ]
    },
    {
      "cell_type": "markdown",
      "source": [
        "#Data Analysis and Preprocessing"
      ],
      "metadata": {
        "id": "WfW6xhRdFOsN"
      }
    },
    {
      "cell_type": "code",
      "source": [
        "import pandas as pd\n",
        "\n",
        "ecommerce_raw = pd.read_excel('ecommerce_data.xlsx')"
      ],
      "metadata": {
        "id": "YBuLb0eR04DP"
      },
      "execution_count": 19,
      "outputs": []
    },
    {
      "cell_type": "code",
      "source": [
        "ecommerce_raw.head(10)"
      ],
      "metadata": {
        "id": "z7ZXsQQh5Gto",
        "outputId": "e651bacc-4f55-4bc7-fdf7-2094bcb485ae",
        "colab": {
          "base_uri": "https://localhost:8080/",
          "height": 363
        }
      },
      "execution_count": 20,
      "outputs": [
        {
          "output_type": "execute_result",
          "data": {
            "text/plain": [
              "   CustomerID  Timestamp  ProductID     Category       Price  Quantity  \\\n",
              "0        1052 2023-01-01          2     Clothing  125.570224         2   \n",
              "1        1093 2023-01-02         15     Clothing  191.996781         3   \n",
              "2        1015 2023-01-03          8     Clothing   40.645691         1   \n",
              "3        1072 2023-01-04          8          NaN         NaN         2   \n",
              "4        1061 2023-01-05         17          NaN         NaN         5   \n",
              "5        1021 2023-01-06         12        Books  369.471757         1   \n",
              "6        1083 2023-01-07         19         Home  156.727320         1   \n",
              "7        1087 2023-01-08         10        Books   95.005236         2   \n",
              "8        1075 2023-01-09          9  Electronics  322.401100         3   \n",
              "9        1075 2023-01-10          5        Books  253.121528         1   \n",
              "\n",
              "        Action  \n",
              "0  Add to Cart  \n",
              "1  Add to Cart  \n",
              "2  Add to Cart  \n",
              "3         View  \n",
              "4     Purchase  \n",
              "5  Add to Cart  \n",
              "6         View  \n",
              "7  Add to Cart  \n",
              "8     Purchase  \n",
              "9         View  "
            ],
            "text/html": [
              "\n",
              "  <div id=\"df-a901d32f-cac7-4114-9fa8-e1d277020a4c\" class=\"colab-df-container\">\n",
              "    <div>\n",
              "<style scoped>\n",
              "    .dataframe tbody tr th:only-of-type {\n",
              "        vertical-align: middle;\n",
              "    }\n",
              "\n",
              "    .dataframe tbody tr th {\n",
              "        vertical-align: top;\n",
              "    }\n",
              "\n",
              "    .dataframe thead th {\n",
              "        text-align: right;\n",
              "    }\n",
              "</style>\n",
              "<table border=\"1\" class=\"dataframe\">\n",
              "  <thead>\n",
              "    <tr style=\"text-align: right;\">\n",
              "      <th></th>\n",
              "      <th>CustomerID</th>\n",
              "      <th>Timestamp</th>\n",
              "      <th>ProductID</th>\n",
              "      <th>Category</th>\n",
              "      <th>Price</th>\n",
              "      <th>Quantity</th>\n",
              "      <th>Action</th>\n",
              "    </tr>\n",
              "  </thead>\n",
              "  <tbody>\n",
              "    <tr>\n",
              "      <th>0</th>\n",
              "      <td>1052</td>\n",
              "      <td>2023-01-01</td>\n",
              "      <td>2</td>\n",
              "      <td>Clothing</td>\n",
              "      <td>125.570224</td>\n",
              "      <td>2</td>\n",
              "      <td>Add to Cart</td>\n",
              "    </tr>\n",
              "    <tr>\n",
              "      <th>1</th>\n",
              "      <td>1093</td>\n",
              "      <td>2023-01-02</td>\n",
              "      <td>15</td>\n",
              "      <td>Clothing</td>\n",
              "      <td>191.996781</td>\n",
              "      <td>3</td>\n",
              "      <td>Add to Cart</td>\n",
              "    </tr>\n",
              "    <tr>\n",
              "      <th>2</th>\n",
              "      <td>1015</td>\n",
              "      <td>2023-01-03</td>\n",
              "      <td>8</td>\n",
              "      <td>Clothing</td>\n",
              "      <td>40.645691</td>\n",
              "      <td>1</td>\n",
              "      <td>Add to Cart</td>\n",
              "    </tr>\n",
              "    <tr>\n",
              "      <th>3</th>\n",
              "      <td>1072</td>\n",
              "      <td>2023-01-04</td>\n",
              "      <td>8</td>\n",
              "      <td>NaN</td>\n",
              "      <td>NaN</td>\n",
              "      <td>2</td>\n",
              "      <td>View</td>\n",
              "    </tr>\n",
              "    <tr>\n",
              "      <th>4</th>\n",
              "      <td>1061</td>\n",
              "      <td>2023-01-05</td>\n",
              "      <td>17</td>\n",
              "      <td>NaN</td>\n",
              "      <td>NaN</td>\n",
              "      <td>5</td>\n",
              "      <td>Purchase</td>\n",
              "    </tr>\n",
              "    <tr>\n",
              "      <th>5</th>\n",
              "      <td>1021</td>\n",
              "      <td>2023-01-06</td>\n",
              "      <td>12</td>\n",
              "      <td>Books</td>\n",
              "      <td>369.471757</td>\n",
              "      <td>1</td>\n",
              "      <td>Add to Cart</td>\n",
              "    </tr>\n",
              "    <tr>\n",
              "      <th>6</th>\n",
              "      <td>1083</td>\n",
              "      <td>2023-01-07</td>\n",
              "      <td>19</td>\n",
              "      <td>Home</td>\n",
              "      <td>156.727320</td>\n",
              "      <td>1</td>\n",
              "      <td>View</td>\n",
              "    </tr>\n",
              "    <tr>\n",
              "      <th>7</th>\n",
              "      <td>1087</td>\n",
              "      <td>2023-01-08</td>\n",
              "      <td>10</td>\n",
              "      <td>Books</td>\n",
              "      <td>95.005236</td>\n",
              "      <td>2</td>\n",
              "      <td>Add to Cart</td>\n",
              "    </tr>\n",
              "    <tr>\n",
              "      <th>8</th>\n",
              "      <td>1075</td>\n",
              "      <td>2023-01-09</td>\n",
              "      <td>9</td>\n",
              "      <td>Electronics</td>\n",
              "      <td>322.401100</td>\n",
              "      <td>3</td>\n",
              "      <td>Purchase</td>\n",
              "    </tr>\n",
              "    <tr>\n",
              "      <th>9</th>\n",
              "      <td>1075</td>\n",
              "      <td>2023-01-10</td>\n",
              "      <td>5</td>\n",
              "      <td>Books</td>\n",
              "      <td>253.121528</td>\n",
              "      <td>1</td>\n",
              "      <td>View</td>\n",
              "    </tr>\n",
              "  </tbody>\n",
              "</table>\n",
              "</div>\n",
              "    <div class=\"colab-df-buttons\">\n",
              "\n",
              "  <div class=\"colab-df-container\">\n",
              "    <button class=\"colab-df-convert\" onclick=\"convertToInteractive('df-a901d32f-cac7-4114-9fa8-e1d277020a4c')\"\n",
              "            title=\"Convert this dataframe to an interactive table.\"\n",
              "            style=\"display:none;\">\n",
              "\n",
              "  <svg xmlns=\"http://www.w3.org/2000/svg\" height=\"24px\" viewBox=\"0 -960 960 960\">\n",
              "    <path d=\"M120-120v-720h720v720H120Zm60-500h600v-160H180v160Zm220 220h160v-160H400v160Zm0 220h160v-160H400v160ZM180-400h160v-160H180v160Zm440 0h160v-160H620v160ZM180-180h160v-160H180v160Zm440 0h160v-160H620v160Z\"/>\n",
              "  </svg>\n",
              "    </button>\n",
              "\n",
              "  <style>\n",
              "    .colab-df-container {\n",
              "      display:flex;\n",
              "      gap: 12px;\n",
              "    }\n",
              "\n",
              "    .colab-df-convert {\n",
              "      background-color: #E8F0FE;\n",
              "      border: none;\n",
              "      border-radius: 50%;\n",
              "      cursor: pointer;\n",
              "      display: none;\n",
              "      fill: #1967D2;\n",
              "      height: 32px;\n",
              "      padding: 0 0 0 0;\n",
              "      width: 32px;\n",
              "    }\n",
              "\n",
              "    .colab-df-convert:hover {\n",
              "      background-color: #E2EBFA;\n",
              "      box-shadow: 0px 1px 2px rgba(60, 64, 67, 0.3), 0px 1px 3px 1px rgba(60, 64, 67, 0.15);\n",
              "      fill: #174EA6;\n",
              "    }\n",
              "\n",
              "    .colab-df-buttons div {\n",
              "      margin-bottom: 4px;\n",
              "    }\n",
              "\n",
              "    [theme=dark] .colab-df-convert {\n",
              "      background-color: #3B4455;\n",
              "      fill: #D2E3FC;\n",
              "    }\n",
              "\n",
              "    [theme=dark] .colab-df-convert:hover {\n",
              "      background-color: #434B5C;\n",
              "      box-shadow: 0px 1px 3px 1px rgba(0, 0, 0, 0.15);\n",
              "      filter: drop-shadow(0px 1px 2px rgba(0, 0, 0, 0.3));\n",
              "      fill: #FFFFFF;\n",
              "    }\n",
              "  </style>\n",
              "\n",
              "    <script>\n",
              "      const buttonEl =\n",
              "        document.querySelector('#df-a901d32f-cac7-4114-9fa8-e1d277020a4c button.colab-df-convert');\n",
              "      buttonEl.style.display =\n",
              "        google.colab.kernel.accessAllowed ? 'block' : 'none';\n",
              "\n",
              "      async function convertToInteractive(key) {\n",
              "        const element = document.querySelector('#df-a901d32f-cac7-4114-9fa8-e1d277020a4c');\n",
              "        const dataTable =\n",
              "          await google.colab.kernel.invokeFunction('convertToInteractive',\n",
              "                                                    [key], {});\n",
              "        if (!dataTable) return;\n",
              "\n",
              "        const docLinkHtml = 'Like what you see? Visit the ' +\n",
              "          '<a target=\"_blank\" href=https://colab.research.google.com/notebooks/data_table.ipynb>data table notebook</a>'\n",
              "          + ' to learn more about interactive tables.';\n",
              "        element.innerHTML = '';\n",
              "        dataTable['output_type'] = 'display_data';\n",
              "        await google.colab.output.renderOutput(dataTable, element);\n",
              "        const docLink = document.createElement('div');\n",
              "        docLink.innerHTML = docLinkHtml;\n",
              "        element.appendChild(docLink);\n",
              "      }\n",
              "    </script>\n",
              "  </div>\n",
              "\n",
              "\n",
              "<div id=\"df-e6ee3286-7db7-494a-9333-cd12c93a0d93\">\n",
              "  <button class=\"colab-df-quickchart\" onclick=\"quickchart('df-e6ee3286-7db7-494a-9333-cd12c93a0d93')\"\n",
              "            title=\"Suggest charts.\"\n",
              "            style=\"display:none;\">\n",
              "\n",
              "<svg xmlns=\"http://www.w3.org/2000/svg\" height=\"24px\"viewBox=\"0 0 24 24\"\n",
              "     width=\"24px\">\n",
              "    <g>\n",
              "        <path d=\"M19 3H5c-1.1 0-2 .9-2 2v14c0 1.1.9 2 2 2h14c1.1 0 2-.9 2-2V5c0-1.1-.9-2-2-2zM9 17H7v-7h2v7zm4 0h-2V7h2v10zm4 0h-2v-4h2v4z\"/>\n",
              "    </g>\n",
              "</svg>\n",
              "  </button>\n",
              "\n",
              "<style>\n",
              "  .colab-df-quickchart {\n",
              "      --bg-color: #E8F0FE;\n",
              "      --fill-color: #1967D2;\n",
              "      --hover-bg-color: #E2EBFA;\n",
              "      --hover-fill-color: #174EA6;\n",
              "      --disabled-fill-color: #AAA;\n",
              "      --disabled-bg-color: #DDD;\n",
              "  }\n",
              "\n",
              "  [theme=dark] .colab-df-quickchart {\n",
              "      --bg-color: #3B4455;\n",
              "      --fill-color: #D2E3FC;\n",
              "      --hover-bg-color: #434B5C;\n",
              "      --hover-fill-color: #FFFFFF;\n",
              "      --disabled-bg-color: #3B4455;\n",
              "      --disabled-fill-color: #666;\n",
              "  }\n",
              "\n",
              "  .colab-df-quickchart {\n",
              "    background-color: var(--bg-color);\n",
              "    border: none;\n",
              "    border-radius: 50%;\n",
              "    cursor: pointer;\n",
              "    display: none;\n",
              "    fill: var(--fill-color);\n",
              "    height: 32px;\n",
              "    padding: 0;\n",
              "    width: 32px;\n",
              "  }\n",
              "\n",
              "  .colab-df-quickchart:hover {\n",
              "    background-color: var(--hover-bg-color);\n",
              "    box-shadow: 0 1px 2px rgba(60, 64, 67, 0.3), 0 1px 3px 1px rgba(60, 64, 67, 0.15);\n",
              "    fill: var(--button-hover-fill-color);\n",
              "  }\n",
              "\n",
              "  .colab-df-quickchart-complete:disabled,\n",
              "  .colab-df-quickchart-complete:disabled:hover {\n",
              "    background-color: var(--disabled-bg-color);\n",
              "    fill: var(--disabled-fill-color);\n",
              "    box-shadow: none;\n",
              "  }\n",
              "\n",
              "  .colab-df-spinner {\n",
              "    border: 2px solid var(--fill-color);\n",
              "    border-color: transparent;\n",
              "    border-bottom-color: var(--fill-color);\n",
              "    animation:\n",
              "      spin 1s steps(1) infinite;\n",
              "  }\n",
              "\n",
              "  @keyframes spin {\n",
              "    0% {\n",
              "      border-color: transparent;\n",
              "      border-bottom-color: var(--fill-color);\n",
              "      border-left-color: var(--fill-color);\n",
              "    }\n",
              "    20% {\n",
              "      border-color: transparent;\n",
              "      border-left-color: var(--fill-color);\n",
              "      border-top-color: var(--fill-color);\n",
              "    }\n",
              "    30% {\n",
              "      border-color: transparent;\n",
              "      border-left-color: var(--fill-color);\n",
              "      border-top-color: var(--fill-color);\n",
              "      border-right-color: var(--fill-color);\n",
              "    }\n",
              "    40% {\n",
              "      border-color: transparent;\n",
              "      border-right-color: var(--fill-color);\n",
              "      border-top-color: var(--fill-color);\n",
              "    }\n",
              "    60% {\n",
              "      border-color: transparent;\n",
              "      border-right-color: var(--fill-color);\n",
              "    }\n",
              "    80% {\n",
              "      border-color: transparent;\n",
              "      border-right-color: var(--fill-color);\n",
              "      border-bottom-color: var(--fill-color);\n",
              "    }\n",
              "    90% {\n",
              "      border-color: transparent;\n",
              "      border-bottom-color: var(--fill-color);\n",
              "    }\n",
              "  }\n",
              "</style>\n",
              "\n",
              "  <script>\n",
              "    async function quickchart(key) {\n",
              "      const quickchartButtonEl =\n",
              "        document.querySelector('#' + key + ' button');\n",
              "      quickchartButtonEl.disabled = true;  // To prevent multiple clicks.\n",
              "      quickchartButtonEl.classList.add('colab-df-spinner');\n",
              "      try {\n",
              "        const charts = await google.colab.kernel.invokeFunction(\n",
              "            'suggestCharts', [key], {});\n",
              "      } catch (error) {\n",
              "        console.error('Error during call to suggestCharts:', error);\n",
              "      }\n",
              "      quickchartButtonEl.classList.remove('colab-df-spinner');\n",
              "      quickchartButtonEl.classList.add('colab-df-quickchart-complete');\n",
              "    }\n",
              "    (() => {\n",
              "      let quickchartButtonEl =\n",
              "        document.querySelector('#df-e6ee3286-7db7-494a-9333-cd12c93a0d93 button');\n",
              "      quickchartButtonEl.style.display =\n",
              "        google.colab.kernel.accessAllowed ? 'block' : 'none';\n",
              "    })();\n",
              "  </script>\n",
              "</div>\n",
              "    </div>\n",
              "  </div>\n"
            ]
          },
          "metadata": {},
          "execution_count": 20
        }
      ]
    },
    {
      "cell_type": "markdown",
      "source": [
        "**Cleaning Category** data and fill it with similar productID's category"
      ],
      "metadata": {
        "id": "Ip-NuptT-d2l"
      }
    },
    {
      "cell_type": "code",
      "source": [
        "ecommerce_raw.describe()"
      ],
      "metadata": {
        "id": "ewBejswtFy0a",
        "outputId": "bbdda85f-bf15-48e0-f80f-37cff95bfe4f",
        "colab": {
          "base_uri": "https://localhost:8080/",
          "height": 300
        }
      },
      "execution_count": 21,
      "outputs": [
        {
          "output_type": "execute_result",
          "data": {
            "text/plain": [
              "        CustomerID    ProductID       Price     Quantity\n",
              "count  1000.000000  1000.000000  900.000000  1000.000000\n",
              "mean   1050.128000    10.338000  257.705579     2.975000\n",
              "std      29.573505     5.771921  144.306057     1.414346\n",
              "min    1001.000000     1.000000   10.092316     1.000000\n",
              "25%    1024.000000     5.000000  130.849891     2.000000\n",
              "50%    1051.000000    10.000000  266.021046     3.000000\n",
              "75%    1075.000000    15.000000  382.361857     4.000000\n",
              "max    1100.000000    20.000000  499.859764     5.000000"
            ],
            "text/html": [
              "\n",
              "  <div id=\"df-99a78bf0-5011-4cc0-a2a8-3fd106b7c8fd\" class=\"colab-df-container\">\n",
              "    <div>\n",
              "<style scoped>\n",
              "    .dataframe tbody tr th:only-of-type {\n",
              "        vertical-align: middle;\n",
              "    }\n",
              "\n",
              "    .dataframe tbody tr th {\n",
              "        vertical-align: top;\n",
              "    }\n",
              "\n",
              "    .dataframe thead th {\n",
              "        text-align: right;\n",
              "    }\n",
              "</style>\n",
              "<table border=\"1\" class=\"dataframe\">\n",
              "  <thead>\n",
              "    <tr style=\"text-align: right;\">\n",
              "      <th></th>\n",
              "      <th>CustomerID</th>\n",
              "      <th>ProductID</th>\n",
              "      <th>Price</th>\n",
              "      <th>Quantity</th>\n",
              "    </tr>\n",
              "  </thead>\n",
              "  <tbody>\n",
              "    <tr>\n",
              "      <th>count</th>\n",
              "      <td>1000.000000</td>\n",
              "      <td>1000.000000</td>\n",
              "      <td>900.000000</td>\n",
              "      <td>1000.000000</td>\n",
              "    </tr>\n",
              "    <tr>\n",
              "      <th>mean</th>\n",
              "      <td>1050.128000</td>\n",
              "      <td>10.338000</td>\n",
              "      <td>257.705579</td>\n",
              "      <td>2.975000</td>\n",
              "    </tr>\n",
              "    <tr>\n",
              "      <th>std</th>\n",
              "      <td>29.573505</td>\n",
              "      <td>5.771921</td>\n",
              "      <td>144.306057</td>\n",
              "      <td>1.414346</td>\n",
              "    </tr>\n",
              "    <tr>\n",
              "      <th>min</th>\n",
              "      <td>1001.000000</td>\n",
              "      <td>1.000000</td>\n",
              "      <td>10.092316</td>\n",
              "      <td>1.000000</td>\n",
              "    </tr>\n",
              "    <tr>\n",
              "      <th>25%</th>\n",
              "      <td>1024.000000</td>\n",
              "      <td>5.000000</td>\n",
              "      <td>130.849891</td>\n",
              "      <td>2.000000</td>\n",
              "    </tr>\n",
              "    <tr>\n",
              "      <th>50%</th>\n",
              "      <td>1051.000000</td>\n",
              "      <td>10.000000</td>\n",
              "      <td>266.021046</td>\n",
              "      <td>3.000000</td>\n",
              "    </tr>\n",
              "    <tr>\n",
              "      <th>75%</th>\n",
              "      <td>1075.000000</td>\n",
              "      <td>15.000000</td>\n",
              "      <td>382.361857</td>\n",
              "      <td>4.000000</td>\n",
              "    </tr>\n",
              "    <tr>\n",
              "      <th>max</th>\n",
              "      <td>1100.000000</td>\n",
              "      <td>20.000000</td>\n",
              "      <td>499.859764</td>\n",
              "      <td>5.000000</td>\n",
              "    </tr>\n",
              "  </tbody>\n",
              "</table>\n",
              "</div>\n",
              "    <div class=\"colab-df-buttons\">\n",
              "\n",
              "  <div class=\"colab-df-container\">\n",
              "    <button class=\"colab-df-convert\" onclick=\"convertToInteractive('df-99a78bf0-5011-4cc0-a2a8-3fd106b7c8fd')\"\n",
              "            title=\"Convert this dataframe to an interactive table.\"\n",
              "            style=\"display:none;\">\n",
              "\n",
              "  <svg xmlns=\"http://www.w3.org/2000/svg\" height=\"24px\" viewBox=\"0 -960 960 960\">\n",
              "    <path d=\"M120-120v-720h720v720H120Zm60-500h600v-160H180v160Zm220 220h160v-160H400v160Zm0 220h160v-160H400v160ZM180-400h160v-160H180v160Zm440 0h160v-160H620v160ZM180-180h160v-160H180v160Zm440 0h160v-160H620v160Z\"/>\n",
              "  </svg>\n",
              "    </button>\n",
              "\n",
              "  <style>\n",
              "    .colab-df-container {\n",
              "      display:flex;\n",
              "      gap: 12px;\n",
              "    }\n",
              "\n",
              "    .colab-df-convert {\n",
              "      background-color: #E8F0FE;\n",
              "      border: none;\n",
              "      border-radius: 50%;\n",
              "      cursor: pointer;\n",
              "      display: none;\n",
              "      fill: #1967D2;\n",
              "      height: 32px;\n",
              "      padding: 0 0 0 0;\n",
              "      width: 32px;\n",
              "    }\n",
              "\n",
              "    .colab-df-convert:hover {\n",
              "      background-color: #E2EBFA;\n",
              "      box-shadow: 0px 1px 2px rgba(60, 64, 67, 0.3), 0px 1px 3px 1px rgba(60, 64, 67, 0.15);\n",
              "      fill: #174EA6;\n",
              "    }\n",
              "\n",
              "    .colab-df-buttons div {\n",
              "      margin-bottom: 4px;\n",
              "    }\n",
              "\n",
              "    [theme=dark] .colab-df-convert {\n",
              "      background-color: #3B4455;\n",
              "      fill: #D2E3FC;\n",
              "    }\n",
              "\n",
              "    [theme=dark] .colab-df-convert:hover {\n",
              "      background-color: #434B5C;\n",
              "      box-shadow: 0px 1px 3px 1px rgba(0, 0, 0, 0.15);\n",
              "      filter: drop-shadow(0px 1px 2px rgba(0, 0, 0, 0.3));\n",
              "      fill: #FFFFFF;\n",
              "    }\n",
              "  </style>\n",
              "\n",
              "    <script>\n",
              "      const buttonEl =\n",
              "        document.querySelector('#df-99a78bf0-5011-4cc0-a2a8-3fd106b7c8fd button.colab-df-convert');\n",
              "      buttonEl.style.display =\n",
              "        google.colab.kernel.accessAllowed ? 'block' : 'none';\n",
              "\n",
              "      async function convertToInteractive(key) {\n",
              "        const element = document.querySelector('#df-99a78bf0-5011-4cc0-a2a8-3fd106b7c8fd');\n",
              "        const dataTable =\n",
              "          await google.colab.kernel.invokeFunction('convertToInteractive',\n",
              "                                                    [key], {});\n",
              "        if (!dataTable) return;\n",
              "\n",
              "        const docLinkHtml = 'Like what you see? Visit the ' +\n",
              "          '<a target=\"_blank\" href=https://colab.research.google.com/notebooks/data_table.ipynb>data table notebook</a>'\n",
              "          + ' to learn more about interactive tables.';\n",
              "        element.innerHTML = '';\n",
              "        dataTable['output_type'] = 'display_data';\n",
              "        await google.colab.output.renderOutput(dataTable, element);\n",
              "        const docLink = document.createElement('div');\n",
              "        docLink.innerHTML = docLinkHtml;\n",
              "        element.appendChild(docLink);\n",
              "      }\n",
              "    </script>\n",
              "  </div>\n",
              "\n",
              "\n",
              "<div id=\"df-de815125-cbec-4543-9d68-618a5b9c23d1\">\n",
              "  <button class=\"colab-df-quickchart\" onclick=\"quickchart('df-de815125-cbec-4543-9d68-618a5b9c23d1')\"\n",
              "            title=\"Suggest charts.\"\n",
              "            style=\"display:none;\">\n",
              "\n",
              "<svg xmlns=\"http://www.w3.org/2000/svg\" height=\"24px\"viewBox=\"0 0 24 24\"\n",
              "     width=\"24px\">\n",
              "    <g>\n",
              "        <path d=\"M19 3H5c-1.1 0-2 .9-2 2v14c0 1.1.9 2 2 2h14c1.1 0 2-.9 2-2V5c0-1.1-.9-2-2-2zM9 17H7v-7h2v7zm4 0h-2V7h2v10zm4 0h-2v-4h2v4z\"/>\n",
              "    </g>\n",
              "</svg>\n",
              "  </button>\n",
              "\n",
              "<style>\n",
              "  .colab-df-quickchart {\n",
              "      --bg-color: #E8F0FE;\n",
              "      --fill-color: #1967D2;\n",
              "      --hover-bg-color: #E2EBFA;\n",
              "      --hover-fill-color: #174EA6;\n",
              "      --disabled-fill-color: #AAA;\n",
              "      --disabled-bg-color: #DDD;\n",
              "  }\n",
              "\n",
              "  [theme=dark] .colab-df-quickchart {\n",
              "      --bg-color: #3B4455;\n",
              "      --fill-color: #D2E3FC;\n",
              "      --hover-bg-color: #434B5C;\n",
              "      --hover-fill-color: #FFFFFF;\n",
              "      --disabled-bg-color: #3B4455;\n",
              "      --disabled-fill-color: #666;\n",
              "  }\n",
              "\n",
              "  .colab-df-quickchart {\n",
              "    background-color: var(--bg-color);\n",
              "    border: none;\n",
              "    border-radius: 50%;\n",
              "    cursor: pointer;\n",
              "    display: none;\n",
              "    fill: var(--fill-color);\n",
              "    height: 32px;\n",
              "    padding: 0;\n",
              "    width: 32px;\n",
              "  }\n",
              "\n",
              "  .colab-df-quickchart:hover {\n",
              "    background-color: var(--hover-bg-color);\n",
              "    box-shadow: 0 1px 2px rgba(60, 64, 67, 0.3), 0 1px 3px 1px rgba(60, 64, 67, 0.15);\n",
              "    fill: var(--button-hover-fill-color);\n",
              "  }\n",
              "\n",
              "  .colab-df-quickchart-complete:disabled,\n",
              "  .colab-df-quickchart-complete:disabled:hover {\n",
              "    background-color: var(--disabled-bg-color);\n",
              "    fill: var(--disabled-fill-color);\n",
              "    box-shadow: none;\n",
              "  }\n",
              "\n",
              "  .colab-df-spinner {\n",
              "    border: 2px solid var(--fill-color);\n",
              "    border-color: transparent;\n",
              "    border-bottom-color: var(--fill-color);\n",
              "    animation:\n",
              "      spin 1s steps(1) infinite;\n",
              "  }\n",
              "\n",
              "  @keyframes spin {\n",
              "    0% {\n",
              "      border-color: transparent;\n",
              "      border-bottom-color: var(--fill-color);\n",
              "      border-left-color: var(--fill-color);\n",
              "    }\n",
              "    20% {\n",
              "      border-color: transparent;\n",
              "      border-left-color: var(--fill-color);\n",
              "      border-top-color: var(--fill-color);\n",
              "    }\n",
              "    30% {\n",
              "      border-color: transparent;\n",
              "      border-left-color: var(--fill-color);\n",
              "      border-top-color: var(--fill-color);\n",
              "      border-right-color: var(--fill-color);\n",
              "    }\n",
              "    40% {\n",
              "      border-color: transparent;\n",
              "      border-right-color: var(--fill-color);\n",
              "      border-top-color: var(--fill-color);\n",
              "    }\n",
              "    60% {\n",
              "      border-color: transparent;\n",
              "      border-right-color: var(--fill-color);\n",
              "    }\n",
              "    80% {\n",
              "      border-color: transparent;\n",
              "      border-right-color: var(--fill-color);\n",
              "      border-bottom-color: var(--fill-color);\n",
              "    }\n",
              "    90% {\n",
              "      border-color: transparent;\n",
              "      border-bottom-color: var(--fill-color);\n",
              "    }\n",
              "  }\n",
              "</style>\n",
              "\n",
              "  <script>\n",
              "    async function quickchart(key) {\n",
              "      const quickchartButtonEl =\n",
              "        document.querySelector('#' + key + ' button');\n",
              "      quickchartButtonEl.disabled = true;  // To prevent multiple clicks.\n",
              "      quickchartButtonEl.classList.add('colab-df-spinner');\n",
              "      try {\n",
              "        const charts = await google.colab.kernel.invokeFunction(\n",
              "            'suggestCharts', [key], {});\n",
              "      } catch (error) {\n",
              "        console.error('Error during call to suggestCharts:', error);\n",
              "      }\n",
              "      quickchartButtonEl.classList.remove('colab-df-spinner');\n",
              "      quickchartButtonEl.classList.add('colab-df-quickchart-complete');\n",
              "    }\n",
              "    (() => {\n",
              "      let quickchartButtonEl =\n",
              "        document.querySelector('#df-de815125-cbec-4543-9d68-618a5b9c23d1 button');\n",
              "      quickchartButtonEl.style.display =\n",
              "        google.colab.kernel.accessAllowed ? 'block' : 'none';\n",
              "    })();\n",
              "  </script>\n",
              "</div>\n",
              "    </div>\n",
              "  </div>\n"
            ]
          },
          "metadata": {},
          "execution_count": 21
        }
      ]
    },
    {
      "cell_type": "code",
      "source": [
        "ecommerce_raw['Category'].describe()"
      ],
      "metadata": {
        "id": "ZLW58cerF9RS",
        "outputId": "c7da592a-6fd8-42c2-dd02-281ec32e8799",
        "colab": {
          "base_uri": "https://localhost:8080/"
        }
      },
      "execution_count": 22,
      "outputs": [
        {
          "output_type": "execute_result",
          "data": {
            "text/plain": [
              "count          900\n",
              "unique           4\n",
              "top       Clothing\n",
              "freq           239\n",
              "Name: Category, dtype: object"
            ]
          },
          "metadata": {},
          "execution_count": 22
        }
      ]
    },
    {
      "cell_type": "code",
      "source": [
        "product_category_map = ecommerce_raw.dropna(subset=['Category']).drop_duplicates(subset=['ProductID'])[['ProductID', 'Category']]\n",
        "ecommerce_raw['Category'] = ecommerce_raw['Category'].fillna(ecommerce_raw['ProductID'].map(product_category_map.set_index('ProductID')['Category']))"
      ],
      "metadata": {
        "id": "lZQoQKS_5RBf"
      },
      "execution_count": 23,
      "outputs": []
    },
    {
      "cell_type": "code",
      "source": [
        "ecommerce_raw['Category'].isna().any()"
      ],
      "metadata": {
        "id": "TxfDEj91FwD7",
        "outputId": "8d549fc0-dbf7-4200-cc24-816db7d8db1c",
        "colab": {
          "base_uri": "https://localhost:8080/"
        }
      },
      "execution_count": 24,
      "outputs": [
        {
          "output_type": "execute_result",
          "data": {
            "text/plain": [
              "False"
            ]
          },
          "metadata": {},
          "execution_count": 24
        }
      ]
    },
    {
      "cell_type": "markdown",
      "source": [
        "**Handeling Price data**"
      ],
      "metadata": {
        "id": "E0rqgtWt_ucw"
      }
    },
    {
      "cell_type": "code",
      "source": [
        "ecommerce_raw['Price'].describe()"
      ],
      "metadata": {
        "id": "ftcWnOz1_F-b",
        "outputId": "b66bbf3f-378c-4a4a-f4af-8f2f09ac0651",
        "colab": {
          "base_uri": "https://localhost:8080/"
        }
      },
      "execution_count": 25,
      "outputs": [
        {
          "output_type": "execute_result",
          "data": {
            "text/plain": [
              "count    900.000000\n",
              "mean     257.705579\n",
              "std      144.306057\n",
              "min       10.092316\n",
              "25%      130.849891\n",
              "50%      266.021046\n",
              "75%      382.361857\n",
              "max      499.859764\n",
              "Name: Price, dtype: float64"
            ]
          },
          "metadata": {},
          "execution_count": 25
        }
      ]
    },
    {
      "cell_type": "code",
      "source": [
        "product_price_map = ecommerce_raw.dropna(subset=['Price']).drop_duplicates(subset=['ProductID'])[['ProductID', 'Price']]\n",
        "ecommerce_raw['Price'] = ecommerce_raw['Price'].fillna(ecommerce_raw['ProductID'].map(product_price_map.set_index('ProductID')['Price']))"
      ],
      "metadata": {
        "id": "4Q1M4EXTCDYS"
      },
      "execution_count": 26,
      "outputs": []
    },
    {
      "cell_type": "code",
      "source": [
        "ecommerce_raw['Price'].isna().any()"
      ],
      "metadata": {
        "id": "NB3VlzS-DFf_",
        "outputId": "9a0992c3-10e8-4c96-f757-74aba8c7f77c",
        "colab": {
          "base_uri": "https://localhost:8080/"
        }
      },
      "execution_count": 27,
      "outputs": [
        {
          "output_type": "execute_result",
          "data": {
            "text/plain": [
              "False"
            ]
          },
          "metadata": {},
          "execution_count": 27
        }
      ]
    },
    {
      "cell_type": "markdown",
      "source": [
        "Analyze customer interactions"
      ],
      "metadata": {
        "id": "comybHYkGrE7"
      }
    },
    {
      "cell_type": "code",
      "source": [
        "len(ecommerce_raw['CustomerID'].unique())"
      ],
      "metadata": {
        "id": "GrozdhUAIxZp",
        "outputId": "c7d2a3d0-f939-4345-c00d-c648e324d1e0",
        "colab": {
          "base_uri": "https://localhost:8080/"
        }
      },
      "execution_count": 36,
      "outputs": [
        {
          "output_type": "execute_result",
          "data": {
            "text/plain": [
              "100"
            ]
          },
          "metadata": {},
          "execution_count": 36
        }
      ]
    },
    {
      "cell_type": "code",
      "source": [
        "customer_interaction_counts = ecommerce_raw.groupby('CustomerID')['Action'].count().reset_index()\n",
        "customer_interaction_counts.rename(columns={'Action': 'TotalActions'}, inplace=True)\n",
        "most_active_customer = customer_interaction_counts.loc[customer_interaction_counts['TotalActions'].idxmax()]"
      ],
      "metadata": {
        "id": "bgQL3IFDZTum"
      },
      "execution_count": 67,
      "outputs": []
    },
    {
      "cell_type": "code",
      "source": [
        "most_active_customer"
      ],
      "metadata": {
        "id": "GlTKoISXZ2ya",
        "outputId": "29f82265-2369-4c14-e99a-c1defd14809a",
        "colab": {
          "base_uri": "https://localhost:8080/"
        }
      },
      "execution_count": 68,
      "outputs": [
        {
          "output_type": "execute_result",
          "data": {
            "text/plain": [
              "CustomerID      1090\n",
              "TotalActions      20\n",
              "Name: 89, dtype: int64"
            ]
          },
          "metadata": {},
          "execution_count": 68
        }
      ]
    },
    {
      "cell_type": "markdown",
      "source": [
        "#Feature Engineering and Analysis"
      ],
      "metadata": {
        "id": "0-GNNcBQYLYj"
      }
    },
    {
      "cell_type": "markdown",
      "source": [
        "Adding total cost column"
      ],
      "metadata": {
        "id": "wLU2ITwTOAmW"
      }
    },
    {
      "cell_type": "code",
      "source": [
        "ecommerce_raw['TotalSpent'] = ecommerce_raw[\"Price\"]*ecommerce_raw[\"Quantity\"]\n",
        "ecommerce_raw['TotalSpent'].describe()"
      ],
      "metadata": {
        "id": "b-66Ni2XMum8",
        "outputId": "86c5cdf8-3ef6-44dd-cc30-8f91a338c76a",
        "colab": {
          "base_uri": "https://localhost:8080/"
        }
      },
      "execution_count": 69,
      "outputs": [
        {
          "output_type": "execute_result",
          "data": {
            "text/plain": [
              "count    1000.000000\n",
              "mean      780.415309\n",
              "std       609.350831\n",
              "min        16.031754\n",
              "25%       270.824383\n",
              "50%       628.384363\n",
              "75%      1188.000571\n",
              "max      2479.769412\n",
              "Name: TotalSpent, dtype: float64"
            ]
          },
          "metadata": {},
          "execution_count": 69
        }
      ]
    },
    {
      "cell_type": "code",
      "source": [
        "grouped = ecommerce_raw.groupby('CustomerID')\n",
        "quantity_per_customer = grouped['Quantity'].sum()"
      ],
      "metadata": {
        "id": "AZNLRlC4GL_a"
      },
      "execution_count": 70,
      "outputs": []
    },
    {
      "cell_type": "code",
      "source": [
        "cost_per_customer =  grouped['TotalSpent'].sum()\n",
        "average_cost_per_customer = grouped['TotalSpent'].mean()"
      ],
      "metadata": {
        "id": "v7dqv77yLyq4"
      },
      "execution_count": 71,
      "outputs": []
    },
    {
      "cell_type": "code",
      "source": [
        "potential_valuable_customer = cost_per_customer.loc[cost_per_customer.idxmax()]\n",
        "cost_per_customer.idxmax(),potential_valuable_customer"
      ],
      "metadata": {
        "id": "xAX06-jOQiKI",
        "outputId": "6eaaa868-c026-45e4-b6bc-112ee99cc739",
        "colab": {
          "base_uri": "https://localhost:8080/"
        }
      },
      "execution_count": 72,
      "outputs": [
        {
          "output_type": "execute_result",
          "data": {
            "text/plain": [
              "(1033, 18925.87592525672)"
            ]
          },
          "metadata": {},
          "execution_count": 72
        }
      ]
    },
    {
      "cell_type": "code",
      "source": [
        "potential_loyal_valuable_per_customer = average_cost_per_customer.loc[average_cost_per_customer.idxmax()]\n",
        "average_cost_per_customer.idxmax(),potential_loyal_valuable_per_customer"
      ],
      "metadata": {
        "id": "osA5SIiFPph3",
        "outputId": "05d4d18d-d86d-4397-cacd-d4d7eec4e80b",
        "colab": {
          "base_uri": "https://localhost:8080/"
        }
      },
      "execution_count": 73,
      "outputs": [
        {
          "output_type": "execute_result",
          "data": {
            "text/plain": [
              "(1031, 1342.445784569562)"
            ]
          },
          "metadata": {},
          "execution_count": 73
        }
      ]
    },
    {
      "cell_type": "markdown",
      "source": [
        "Filter By purchase action"
      ],
      "metadata": {
        "id": "kG2KkTUzVBb5"
      }
    },
    {
      "cell_type": "code",
      "source": [
        "only_purchase=ecommerce_raw[ecommerce_raw['Action'] == 'Purchase']\n",
        "grouped_OP = only_purchase.groupby('CustomerID')"
      ],
      "metadata": {
        "id": "QEplOaVzUs63"
      },
      "execution_count": 74,
      "outputs": []
    },
    {
      "cell_type": "code",
      "source": [
        "cost_per_customer_OP =  grouped_OP['TotalSpent'].sum()\n",
        "average_cost_per_customer_OP = grouped_OP['TotalSpent'].mean()"
      ],
      "metadata": {
        "id": "HCl81oAVWrTl"
      },
      "execution_count": 78,
      "outputs": []
    },
    {
      "cell_type": "code",
      "source": [
        "valuable_customer_OP = cost_per_customer_OP.loc[cost_per_customer_OP.idxmax()]\n",
        "cost_per_customer_OP.idxmax(),valuable_customer_OP"
      ],
      "metadata": {
        "id": "61omsacFWwl3",
        "outputId": "ea70e6a6-a992-4c49-9f4d-cfbb30325896",
        "colab": {
          "base_uri": "https://localhost:8080/"
        }
      },
      "execution_count": 79,
      "outputs": [
        {
          "output_type": "execute_result",
          "data": {
            "text/plain": [
              "(1092, 12070.523164409899)"
            ]
          },
          "metadata": {},
          "execution_count": 79
        }
      ]
    },
    {
      "cell_type": "code",
      "source": [
        "loyal_valuable_per_customer_OP = average_cost_per_customer_OP.loc[average_cost_per_customer_OP.idxmax()]\n",
        "average_cost_per_customer_OP.idxmax(),loyal_valuable_per_customer_OP"
      ],
      "metadata": {
        "id": "vfF3FBBjW5V3",
        "outputId": "d523c954-511e-4ef1-8992-b171ac3ff81d",
        "colab": {
          "base_uri": "https://localhost:8080/"
        }
      },
      "execution_count": 80,
      "outputs": [
        {
          "output_type": "execute_result",
          "data": {
            "text/plain": [
              "(1055, 1759.5028763798998)"
            ]
          },
          "metadata": {},
          "execution_count": 80
        }
      ]
    },
    {
      "cell_type": "code",
      "source": [
        "category_counts = ecommerce_raw['Category'].value_counts()\n",
        "print(f\"most interacted category is {category_counts.idxmax()} and it's value is {category_counts.loc[category_counts.idxmax()]}\")"
      ],
      "metadata": {
        "id": "EIJEf5PneLNQ",
        "outputId": "3f0099b0-ef45-42be-b018-b22e4662ace8",
        "colab": {
          "base_uri": "https://localhost:8080/"
        }
      },
      "execution_count": 86,
      "outputs": [
        {
          "output_type": "stream",
          "name": "stdout",
          "text": [
            "most interacted category is Clothing and it's value is 265\n"
          ]
        }
      ]
    },
    {
      "cell_type": "code",
      "source": [
        "grouped_caegory = ecommerce_raw.groupby('Category')\n",
        "price_category=grouped_caegory['Price'].sum()\n",
        "print(f\"most potential profitable category is {price_category.idxmax()} and it's value is {price_category.loc[price_category.idxmax()]}\")"
      ],
      "metadata": {
        "id": "8h_Az9FhYKQ1",
        "outputId": "d9066a14-9d1d-4fb4-906d-011a2e2de1f8",
        "colab": {
          "base_uri": "https://localhost:8080/"
        }
      },
      "execution_count": 87,
      "outputs": [
        {
          "output_type": "stream",
          "name": "stdout",
          "text": [
            "most potential profitable category is Electronics and it's value is 69575.62098416791\n"
          ]
        }
      ]
    },
    {
      "cell_type": "code",
      "source": [
        "grouped_caegory_purchase = only_purchase.groupby('Category')\n",
        "price_category_purchased=grouped_caegory_purchase['Price'].sum()\n",
        "print(f\"most pricy category is {price_category_purchased.idxmax()} and it's value is {price_category_purchased.loc[price_category_purchased.idxmax()]}\")"
      ],
      "metadata": {
        "id": "R2Xz3CSrfTAk",
        "outputId": "c07c0cae-1495-4a87-d5bd-aab11212c6c4",
        "colab": {
          "base_uri": "https://localhost:8080/"
        }
      },
      "execution_count": 89,
      "outputs": [
        {
          "output_type": "stream",
          "name": "stdout",
          "text": [
            "most pricy category is Electronics and it's value is 64283.52246876539\n"
          ]
        }
      ]
    }
  ]
}